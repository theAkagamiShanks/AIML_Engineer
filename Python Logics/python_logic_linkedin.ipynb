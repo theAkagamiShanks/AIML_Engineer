{
 "cells": [
  {
   "cell_type": "markdown",
   "metadata": {},
   "source": [
    "# This notebook is all about python logical \n",
    "#### https://media.licdn.com/dms/document/media/v2/D561FAQFWIoXCO2rp8g/feedshare-document-pdf-analyzed/B56ZVW_NFWHEAY-/0/1740921250540?e=1743033600&v=beta&t=qHw0WukT4T5gTyxIDm6UWtnLq0d-aTQTryFLQPBoexw"
   ]
  },
  {
   "cell_type": "markdown",
   "metadata": {},
   "source": [
    "## generator to produce first n prime numbers"
   ]
  },
  {
   "cell_type": "code",
   "execution_count": 11,
   "metadata": {},
   "outputs": [
    {
     "name": "stdout",
     "output_type": "stream",
     "text": [
      "2 3 5 7 11 13 17 19 23 29 "
     ]
    }
   ],
   "source": [
    "def isPrime(num):\n",
    "    for i in range(2,num):\n",
    "        # i - 2\n",
    "        # num - 89\n",
    "        # 89 / 2 == 0?\n",
    "        # return false\n",
    "\n",
    "        # i - 3\n",
    "        # num -89\n",
    "        # \n",
    "        if num % i == 0:\n",
    "            return False\n",
    "    return True\n",
    "\n",
    "\n",
    "def prime_generator(n):\n",
    "    num = 2\n",
    "\n",
    "    while n:\n",
    "        if isPrime(num):\n",
    "            yield num\n",
    "            n = n-1\n",
    "        \n",
    "        num = num+1 \n",
    "\n",
    "it  = prime_generator(10)\n",
    "\n",
    "for e in it :\n",
    "    print(e,end=\" \")"
   ]
  },
  {
   "cell_type": "code",
   "execution_count": 10,
   "metadata": {},
   "outputs": [
    {
     "data": {
      "text/plain": [
       "False"
      ]
     },
     "execution_count": 10,
     "metadata": {},
     "output_type": "execute_result"
    }
   ],
   "source": [
    "isPrime(10)"
   ]
  },
  {
   "cell_type": "markdown",
   "metadata": {},
   "source": []
  }
 ],
 "metadata": {
  "kernelspec": {
   "display_name": "Python 3",
   "language": "python",
   "name": "python3"
  },
  "language_info": {
   "codemirror_mode": {
    "name": "ipython",
    "version": 3
   },
   "file_extension": ".py",
   "mimetype": "text/x-python",
   "name": "python",
   "nbconvert_exporter": "python",
   "pygments_lexer": "ipython3",
   "version": "3.13.1"
  }
 },
 "nbformat": 4,
 "nbformat_minor": 2
}
